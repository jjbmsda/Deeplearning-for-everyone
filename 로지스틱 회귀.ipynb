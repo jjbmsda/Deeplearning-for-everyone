{
 "cells": [
  {
   "cell_type": "code",
   "execution_count": 2,
   "metadata": {},
   "outputs": [],
   "source": [
    "import tensorflow.compat.v1 as tf\n",
    "import numpy as np\n",
    "\n",
    "tf.disable_v2_behavior()"
   ]
  },
  {
   "cell_type": "code",
   "execution_count": 3,
   "metadata": {},
   "outputs": [],
   "source": [
    "data = [[2, 0], [4, 0], [6, 0], [8, 1], [10, 1], [12, 1], [14, 1]]\n",
    "x_data = [x_row[0] for x_row in data]\n",
    "y_data = [y_row[1] for y_row in data]"
   ]
  },
  {
   "cell_type": "code",
   "execution_count": 9,
   "metadata": {},
   "outputs": [],
   "source": [
    "a = tf.Variable(tf.random.uniform([1], dtype = tf.float64, seed = 0))\n",
    "b = tf.Variable(tf.random.uniform([1], dtype = tf.float64, seed = 0))"
   ]
  },
  {
   "cell_type": "code",
   "execution_count": 10,
   "metadata": {},
   "outputs": [],
   "source": [
    "y = 1/(1+ np.e**(a*x_data+b))"
   ]
  },
  {
   "cell_type": "code",
   "execution_count": 11,
   "metadata": {},
   "outputs": [],
   "source": [
    "loss = -tf.reduce_mean(np.array(y_data)*tf.log(y)+(1-np.array(y_data))*tf.log(1-y))"
   ]
  },
  {
   "cell_type": "code",
   "execution_count": 12,
   "metadata": {},
   "outputs": [],
   "source": [
    "learning_rate = 0.5\n",
    "gradient_decent = tf.train.GradientDescentOptimizer(learning_rate).minimize(loss)"
   ]
  },
  {
   "cell_type": "code",
   "execution_count": 13,
   "metadata": {},
   "outputs": [
    {
     "name": "stdout",
     "output_type": "stream",
     "text": [
      "Epoch: 0, loss = 3.7483, 기울기 a = -2.3173, y절편 b= 0.5286\n",
      "Epoch: 6000, loss = 0.0152, 기울기 a = -2.9232, y절편 b= 20.3131\n",
      "Epoch: 12000, loss = 0.0081, 기울기 a = -3.5649, y절편 b= 24.8090\n",
      "Epoch: 18000, loss = 0.0055, 기울기 a = -3.9565, y절편 b= 27.5518\n",
      "Epoch: 24000, loss = 0.0041, 기울기 a = -4.2386, y절편 b= 29.5272\n",
      "Epoch: 30000, loss = 0.0033, 기울기 a = -4.4591, y절편 b= 31.0709\n",
      "Epoch: 36000, loss = 0.0028, 기울기 a = -4.6400, y절편 b= 32.3374\n",
      "Epoch: 42000, loss = 0.0024, 기울기 a = -4.7933, y절편 b= 33.4110\n",
      "Epoch: 48000, loss = 0.0021, 기울기 a = -4.9264, y절편 b= 34.3427\n",
      "Epoch: 54000, loss = 0.0019, 기울기 a = -5.0439, y절편 b= 35.1655\n",
      "Epoch: 60000, loss = 0.0017, 기울기 a = -5.1491, y절편 b= 35.9021\n"
     ]
    }
   ],
   "source": [
    "with tf.Session() as sess:\n",
    "    #변수 초기화\n",
    "    sess.run(tf.global_variables_initializer())\n",
    "    #2001번 실행\n",
    "    for i in range(60001):\n",
    "        sess.run(gradient_decent)\n",
    "        #100번 마다 결과 출력\n",
    "        if i % 6000 == 0:\n",
    "            print(\"Epoch: %.f, loss = %.4f, 기울기 a = %.4f, y절편 b= %.4f\" % (i, sess.run(loss),sess.run(a),sess.run(b)))"
   ]
  }
 ],
 "metadata": {
  "kernelspec": {
   "display_name": "Python 3",
   "language": "python",
   "name": "python3"
  },
  "language_info": {
   "codemirror_mode": {
    "name": "ipython",
    "version": 3
   },
   "file_extension": ".py",
   "mimetype": "text/x-python",
   "name": "python",
   "nbconvert_exporter": "python",
   "pygments_lexer": "ipython3",
   "version": "3.8.5"
  }
 },
 "nbformat": 4,
 "nbformat_minor": 4
}

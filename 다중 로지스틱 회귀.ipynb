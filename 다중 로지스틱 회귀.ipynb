{
 "cells": [
  {
   "cell_type": "code",
   "execution_count": 2,
   "metadata": {},
   "outputs": [],
   "source": [
    "import tensorflow.compat.v1 as tf\n",
    "import numpy as np\n",
    "\n",
    "tf.disable_v2_behavior()"
   ]
  },
  {
   "cell_type": "code",
   "execution_count": 3,
   "metadata": {},
   "outputs": [],
   "source": [
    "seed = 0\n",
    "np.random.seed(seed)\n",
    "tf.set_random_seed(seed)"
   ]
  },
  {
   "cell_type": "code",
   "execution_count": 4,
   "metadata": {},
   "outputs": [],
   "source": [
    "x_data = np.array([[2, 3], [4, 3], [6, 4], [8, 6], [10, 7], [12, 8], [14, 9]])\n",
    "\n",
    "y_data = np.array([0, 0, 0, 1, 1, 1, 1]).reshape(7,1)"
   ]
  },
  {
   "cell_type": "code",
   "execution_count": 5,
   "metadata": {},
   "outputs": [],
   "source": [
    "X = tf.placeholder(tf.float64, shape=[None, 2])\n",
    "Y = tf.placeholder(tf.float64, shape=[None, 1])"
   ]
  },
  {
   "cell_type": "code",
   "execution_count": 6,
   "metadata": {},
   "outputs": [],
   "source": [
    "a = tf.Variable(tf.random.uniform([2,1], dtype = tf.float64))\n",
    "b = tf.Variable(tf.random.uniform([1], dtype = tf.float64))"
   ]
  },
  {
   "cell_type": "code",
   "execution_count": 7,
   "metadata": {},
   "outputs": [],
   "source": [
    "y = tf.sigmoid(tf.matmul(X, a)+b)"
   ]
  },
  {
   "cell_type": "code",
   "execution_count": 8,
   "metadata": {},
   "outputs": [],
   "source": [
    "loss = -tf.reduce_mean(Y*tf.log(y) + (1-Y) * tf.log(1-y))\n",
    "\n",
    "learning_rate = 0.1"
   ]
  },
  {
   "cell_type": "code",
   "execution_count": 9,
   "metadata": {},
   "outputs": [],
   "source": [
    "gradient_decent = tf.train.GradientDescentOptimizer(learning_rate).minimize(loss)"
   ]
  },
  {
   "cell_type": "code",
   "execution_count": 10,
   "metadata": {},
   "outputs": [],
   "source": [
    "predicted = tf.cast(y>0.5, dtype=tf.float64)\n",
    "accuracy = tf.reduce_mean(tf.cast(tf.equal(predicted, Y), dtype=tf.float64))"
   ]
  },
  {
   "cell_type": "code",
   "execution_count": 17,
   "metadata": {},
   "outputs": [
    {
     "name": "stdout",
     "output_type": "stream",
     "text": [
      "step=300, a1 = 0.7584, a2 = -0.4500, b= -2.5621, loss=0.2587\n",
      "공부한 시간: 7, 과외수업횟수: 6\n",
      "합격 가능성:  51.18 %\n",
      "step=600, a1 = 0.7741, a2 = -0.2051, b= -4.0029, loss=0.1863\n",
      "공부한 시간: 7, 과외수업횟수: 6\n",
      "합격 가능성:  54.62 %\n",
      "step=900, a1 = 0.6955, a2 = 0.1030, b= -5.0471, loss=0.1463\n",
      "공부한 시간: 7, 과외수업횟수: 6\n",
      "합격 가능성:  60.81 %\n",
      "step=1200, a1 = 0.6003, a2 = 0.3952, b= -5.8751, loss=0.1202\n",
      "공부한 시간: 7, 과외수업횟수: 6\n",
      "합격 가능성:  66.77 %\n",
      "step=1500, a1 = 0.5077, a2 = 0.6577, b= -6.5631, loss=0.1018\n",
      "공부한 시간: 7, 과외수업횟수: 6\n",
      "합격 가능성:  71.84 %\n",
      "step=1800, a1 = 0.4230, a2 = 0.8905, b= -7.1524, loss=0.0881\n",
      "공부한 시간: 7, 과외수업횟수: 6\n",
      "합격 가능성:  75.98 %\n",
      "step=2100, a1 = 0.3472, a2 = 1.0970, b= -7.6681, loss=0.0776\n",
      "공부한 시간: 7, 과외수업횟수: 6\n",
      "합격 가능성:  79.32 %\n",
      "step=2400, a1 = 0.2797, a2 = 1.2809, b= -8.1266, loss=0.0693\n",
      "공부한 시간: 7, 과외수업횟수: 6\n",
      "합격 가능성:  82.00 %\n",
      "step=2700, a1 = 0.2196, a2 = 1.4457, b= -8.5395, loss=0.0626\n",
      "공부한 시간: 7, 과외수업횟수: 6\n",
      "합격 가능성:  84.18 %\n",
      "step=3000, a1 = 0.1660, a2 = 1.5943, b= -8.9151, loss=0.0571\n",
      "공부한 시간: 7, 과외수업횟수: 6\n",
      "합격 가능성:  85.97 %\n"
     ]
    }
   ],
   "source": [
    "with tf.Session() as sess:\n",
    "    #변수 초기화\n",
    "    sess.run(tf.global_variables_initializer())\n",
    "    #2001번 실행\n",
    "    for i in range(3001):\n",
    "        a_, b_, loss_, _ = sess.run([a, b, loss, gradient_decent], feed_dict={X: x_data, Y: y_data})\n",
    "        if (i+1) % 300 == 0:\n",
    "            print(\"step=%d, a1 = %.4f, a2 = %.4f, b= %.4f, loss=%.4f\" % (i+1, a_[0], a_[1], b_, loss_))\n",
    "            new_x = np.array([7, 6.]).reshape(1,2)\n",
    "            new_y = sess.run(y, feed_dict={X: new_x})\n",
    "            print(\"공부한 시간: %d, 과외수업횟수: %d\" % (new_x[:,0], new_x[:,1]))\n",
    "            print(\"합격 가능성: %6.2f %%\" % (new_y*100))"
   ]
  }
 ],
 "metadata": {
  "kernelspec": {
   "display_name": "Python 3",
   "language": "python",
   "name": "python3"
  },
  "language_info": {
   "codemirror_mode": {
    "name": "ipython",
    "version": 3
   },
   "file_extension": ".py",
   "mimetype": "text/x-python",
   "name": "python",
   "nbconvert_exporter": "python",
   "pygments_lexer": "ipython3",
   "version": "3.8.5"
  }
 },
 "nbformat": 4,
 "nbformat_minor": 4
}

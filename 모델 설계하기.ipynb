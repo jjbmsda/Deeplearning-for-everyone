{
 "cells": [
  {
   "cell_type": "code",
   "execution_count": 3,
   "metadata": {},
   "outputs": [
    {
     "name": "stdout",
     "output_type": "stream",
     "text": [
      "Collecting keras\n",
      "  Downloading Keras-2.4.3-py2.py3-none-any.whl (36 kB)\n",
      "Requirement already satisfied: pyyaml in ./opt/anaconda3/lib/python3.8/site-packages (from keras) (5.3.1)\n",
      "Requirement already satisfied: scipy>=0.14 in ./opt/anaconda3/lib/python3.8/site-packages (from keras) (1.5.2)\n",
      "Requirement already satisfied: numpy>=1.9.1 in ./opt/anaconda3/lib/python3.8/site-packages (from keras) (1.19.2)\n",
      "Requirement already satisfied: h5py in ./opt/anaconda3/lib/python3.8/site-packages (from keras) (2.10.0)\n",
      "Requirement already satisfied: six in ./opt/anaconda3/lib/python3.8/site-packages (from h5py->keras) (1.15.0)\n",
      "Installing collected packages: keras\n",
      "Successfully installed keras-2.4.3\n",
      "Note: you may need to restart the kernel to use updated packages.\n"
     ]
    }
   ],
   "source": [
    "pip install keras"
   ]
  },
  {
   "cell_type": "code",
   "execution_count": 1,
   "metadata": {},
   "outputs": [],
   "source": [
    "from keras.models import Sequential\n",
    "from keras.layers import Dense"
   ]
  },
  {
   "cell_type": "code",
   "execution_count": 3,
   "metadata": {},
   "outputs": [],
   "source": [
    "import numpy\n",
    "import tensorflow as tf"
   ]
  },
  {
   "cell_type": "code",
   "execution_count": 5,
   "metadata": {},
   "outputs": [],
   "source": [
    "seed = 0\n",
    "numpy.random.seed(seed)\n",
    "tf.random.set_seed(seed)"
   ]
  },
  {
   "cell_type": "code",
   "execution_count": 7,
   "metadata": {},
   "outputs": [],
   "source": [
    "Data_set = numpy.loadtxt(\"dataset/ThoraricSurgery.csv\", delimiter=\",\")"
   ]
  },
  {
   "cell_type": "code",
   "execution_count": 8,
   "metadata": {},
   "outputs": [],
   "source": [
    "X = Data_set[:, 0:17]\n",
    "Y = Data_set[:, 17]"
   ]
  },
  {
   "cell_type": "code",
   "execution_count": 9,
   "metadata": {},
   "outputs": [],
   "source": [
    "model = Sequential()\n",
    "model.add(Dense(30, input_dim=17, activation='relu'))\n",
    "model.add(Dense(1, activation='sigmoid'))"
   ]
  },
  {
   "cell_type": "code",
   "execution_count": 10,
   "metadata": {},
   "outputs": [
    {
     "name": "stdout",
     "output_type": "stream",
     "text": [
      "Epoch 1/30\n",
      "47/47 [==============================] - 1s 2ms/step - loss: 0.6616 - accuracy: 0.3134\n",
      "Epoch 2/30\n",
      "47/47 [==============================] - 0s 2ms/step - loss: 0.1549 - accuracy: 0.8449\n",
      "Epoch 3/30\n",
      "47/47 [==============================] - 0s 3ms/step - loss: 0.1410 - accuracy: 0.8589\n",
      "Epoch 4/30\n",
      "47/47 [==============================] - 0s 5ms/step - loss: 0.1507 - accuracy: 0.8490\n",
      "Epoch 5/30\n",
      "47/47 [==============================] - 0s 2ms/step - loss: 0.1643 - accuracy: 0.8356\n",
      "Epoch 6/30\n",
      "47/47 [==============================] - 0s 5ms/step - loss: 0.1354 - accuracy: 0.8644\n",
      "Epoch 7/30\n",
      "47/47 [==============================] - 0s 2ms/step - loss: 0.1134 - accuracy: 0.8866\n",
      "Epoch 8/30\n",
      "47/47 [==============================] - 0s 2ms/step - loss: 0.1652 - accuracy: 0.8344\n",
      "Epoch 9/30\n",
      "47/47 [==============================] - 0s 2ms/step - loss: 0.1634 - accuracy: 0.8347\n",
      "Epoch 10/30\n",
      "47/47 [==============================] - 0s 2ms/step - loss: 0.1384 - accuracy: 0.8607\n",
      "Epoch 11/30\n",
      "47/47 [==============================] - 0s 3ms/step - loss: 0.1539 - accuracy: 0.8455\n",
      "Epoch 12/30\n",
      "47/47 [==============================] - 0s 4ms/step - loss: 0.1359 - accuracy: 0.8631\n",
      "Epoch 13/30\n",
      "47/47 [==============================] - 0s 3ms/step - loss: 0.1598 - accuracy: 0.8419\n",
      "Epoch 14/30\n",
      "47/47 [==============================] - 0s 3ms/step - loss: 0.1438 - accuracy: 0.8524\n",
      "Epoch 15/30\n",
      "47/47 [==============================] - 0s 2ms/step - loss: 0.1513 - accuracy: 0.8472\n",
      "Epoch 16/30\n",
      "47/47 [==============================] - 0s 3ms/step - loss: 0.1537 - accuracy: 0.8457\n",
      "Epoch 17/30\n",
      "47/47 [==============================] - 0s 3ms/step - loss: 0.1292 - accuracy: 0.8719\n",
      "Epoch 18/30\n",
      "47/47 [==============================] - 0s 3ms/step - loss: 0.1735 - accuracy: 0.8188\n",
      "Epoch 19/30\n",
      "47/47 [==============================] - 0s 3ms/step - loss: 0.1586 - accuracy: 0.8331\n",
      "Epoch 20/30\n",
      "47/47 [==============================] - 0s 2ms/step - loss: 0.1546 - accuracy: 0.8446\n",
      "Epoch 21/30\n",
      "47/47 [==============================] - 0s 3ms/step - loss: 0.1547 - accuracy: 0.8427\n",
      "Epoch 22/30\n",
      "47/47 [==============================] - 0s 3ms/step - loss: 0.1493 - accuracy: 0.8452\n",
      "Epoch 23/30\n",
      "47/47 [==============================] - 0s 3ms/step - loss: 0.1730 - accuracy: 0.8242\n",
      "Epoch 24/30\n",
      "47/47 [==============================] - 0s 3ms/step - loss: 0.1185 - accuracy: 0.8748\n",
      "Epoch 25/30\n",
      "47/47 [==============================] - 0s 2ms/step - loss: 0.1449 - accuracy: 0.8406\n",
      "Epoch 26/30\n",
      "47/47 [==============================] - 0s 2ms/step - loss: 0.1540 - accuracy: 0.8395\n",
      "Epoch 27/30\n",
      "47/47 [==============================] - 0s 2ms/step - loss: 0.1764 - accuracy: 0.8218\n",
      "Epoch 28/30\n",
      "47/47 [==============================] - 0s 2ms/step - loss: 0.1289 - accuracy: 0.8715\n",
      "Epoch 29/30\n",
      "47/47 [==============================] - 0s 2ms/step - loss: 0.1215 - accuracy: 0.8778\n",
      "Epoch 30/30\n",
      "47/47 [==============================] - 0s 2ms/step - loss: 0.1553 - accuracy: 0.8387\n"
     ]
    },
    {
     "data": {
      "text/plain": [
       "<tensorflow.python.keras.callbacks.History at 0x7fa9d37722b0>"
      ]
     },
     "execution_count": 10,
     "metadata": {},
     "output_type": "execute_result"
    }
   ],
   "source": [
    "model.compile(loss='mean_squared_error', optimizer='adam', metrics=['accuracy'])\n",
    "model.fit(X, Y, epochs=30, batch_size=10)"
   ]
  },
  {
   "cell_type": "code",
   "execution_count": 11,
   "metadata": {},
   "outputs": [
    {
     "name": "stdout",
     "output_type": "stream",
     "text": [
      "15/15 [==============================] - 0s 2ms/step - loss: 0.1438 - accuracy: 0.8511\n",
      "\n",
      " Accuracy: 0.8511\n"
     ]
    }
   ],
   "source": [
    "print(\"\\n Accuracy: %.4f\" % (model.evaluate(X, Y)[1]))"
   ]
  }
 ],
 "metadata": {
  "kernelspec": {
   "display_name": "Python 3",
   "language": "python",
   "name": "python3"
  },
  "language_info": {
   "codemirror_mode": {
    "name": "ipython",
    "version": 3
   },
   "file_extension": ".py",
   "mimetype": "text/x-python",
   "name": "python",
   "nbconvert_exporter": "python",
   "pygments_lexer": "ipython3",
   "version": "3.8.5"
  }
 },
 "nbformat": 4,
 "nbformat_minor": 4
}
